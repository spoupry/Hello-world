{
  "nbformat": 4,
  "nbformat_minor": 0,
  "metadata": {
    "colab": {
      "name": "Fault_detection.ipynb",
      "provenance": [],
      "authorship_tag": "ABX9TyMC1UCFPZ6HRa5emJZb6oM6",
      "include_colab_link": true
    },
    "kernelspec": {
      "name": "python3",
      "display_name": "Python 3"
    },
    "language_info": {
      "name": "python"
    }
  },
  "cells": [
    {
      "cell_type": "markdown",
      "metadata": {
        "id": "view-in-github",
        "colab_type": "text"
      },
      "source": [
        "<a href=\"https://colab.research.google.com/github/spoupry/Hello-world/blob/main/Fault_detection.ipynb\" target=\"_parent\"><img src=\"https://colab.research.google.com/assets/colab-badge.svg\" alt=\"Open In Colab\"/></a>"
      ]
    },
    {
      "cell_type": "code",
      "execution_count": null,
      "metadata": {
        "colab": {
          "base_uri": "https://localhost:8080/"
        },
        "id": "tx9gZiKyPttc",
        "outputId": "f78ff608-7d1a-4e3d-836d-608420648223"
      },
      "outputs": [
        {
          "output_type": "stream",
          "name": "stdout",
          "text": [
            "Drive already mounted at /content/drive; to attempt to forcibly remount, call drive.mount(\"/content/drive\", force_remount=True).\n"
          ]
        }
      ],
      "source": [
        "import pandas as pd\n",
        "from pathlib import Path\n",
        "import os.path\n",
        "import numpy as np \n",
        "import matplotlib.pyplot as plt\n",
        "\n",
        "import statistics\n",
        "\n",
        "from google.colab import drive\n",
        "drive.mount('/content/drive')\n",
        "dir_path = '/content/drive/My Drive/Colab Notebooks/'\n",
        "#pour les dates\n",
        "from datetime import datetime, timedelta\n",
        "from dateutil.parser import parse"
      ]
    },
    {
      "cell_type": "code",
      "source": [
        "#chargement du fichier de données\n",
        "df = pd.read_csv(dir_path + \"pm10_daily.csv\", delimiter=\"\\t\")\n",
        "#All data in the dataset is in string format. Here we convert them into useful datatypes\n",
        "df[\"DateTime\"] = pd.to_datetime(df[\"DateTime\"])\n",
        "df[\"Arg12b1f\"] = pd.to_numeric(df[\"Arg12b1f\"])\n",
        "df[\"ENI0122B1V1\"] = pd.to_numeric(df[\"ENI0122B1V1\"])\n",
        "df[\"ENI0122B2V1\"] = pd.to_numeric(df[\"ENI0122B2V1\"])\n",
        "df.head(2)\n"
      ],
      "metadata": {
        "colab": {
          "base_uri": "https://localhost:8080/",
          "height": 112
        },
        "id": "D-xbndfHP8aY",
        "outputId": "d8f357c9-0cb7-4dc9-fe45-d2ac529fc047"
      },
      "execution_count": null,
      "outputs": [
        {
          "output_type": "execute_result",
          "data": {
            "text/plain": [
              "             DateTime  Arg12b1f  ENI0122B1V1  ENI0122B2V1\n",
              "0 2022-03-02 08:22:00       NaN         35.7         42.8\n",
              "1 2022-03-02 08:22:00      36.2          NaN          NaN"
            ],
            "text/html": [
              "\n",
              "  <div id=\"df-3b171f4f-a789-4031-a54e-5c27a9ebc239\">\n",
              "    <div class=\"colab-df-container\">\n",
              "      <div>\n",
              "<style scoped>\n",
              "    .dataframe tbody tr th:only-of-type {\n",
              "        vertical-align: middle;\n",
              "    }\n",
              "\n",
              "    .dataframe tbody tr th {\n",
              "        vertical-align: top;\n",
              "    }\n",
              "\n",
              "    .dataframe thead th {\n",
              "        text-align: right;\n",
              "    }\n",
              "</style>\n",
              "<table border=\"1\" class=\"dataframe\">\n",
              "  <thead>\n",
              "    <tr style=\"text-align: right;\">\n",
              "      <th></th>\n",
              "      <th>DateTime</th>\n",
              "      <th>Arg12b1f</th>\n",
              "      <th>ENI0122B1V1</th>\n",
              "      <th>ENI0122B2V1</th>\n",
              "    </tr>\n",
              "  </thead>\n",
              "  <tbody>\n",
              "    <tr>\n",
              "      <th>0</th>\n",
              "      <td>2022-03-02 08:22:00</td>\n",
              "      <td>NaN</td>\n",
              "      <td>35.7</td>\n",
              "      <td>42.8</td>\n",
              "    </tr>\n",
              "    <tr>\n",
              "      <th>1</th>\n",
              "      <td>2022-03-02 08:22:00</td>\n",
              "      <td>36.2</td>\n",
              "      <td>NaN</td>\n",
              "      <td>NaN</td>\n",
              "    </tr>\n",
              "  </tbody>\n",
              "</table>\n",
              "</div>\n",
              "      <button class=\"colab-df-convert\" onclick=\"convertToInteractive('df-3b171f4f-a789-4031-a54e-5c27a9ebc239')\"\n",
              "              title=\"Convert this dataframe to an interactive table.\"\n",
              "              style=\"display:none;\">\n",
              "        \n",
              "  <svg xmlns=\"http://www.w3.org/2000/svg\" height=\"24px\"viewBox=\"0 0 24 24\"\n",
              "       width=\"24px\">\n",
              "    <path d=\"M0 0h24v24H0V0z\" fill=\"none\"/>\n",
              "    <path d=\"M18.56 5.44l.94 2.06.94-2.06 2.06-.94-2.06-.94-.94-2.06-.94 2.06-2.06.94zm-11 1L8.5 8.5l.94-2.06 2.06-.94-2.06-.94L8.5 2.5l-.94 2.06-2.06.94zm10 10l.94 2.06.94-2.06 2.06-.94-2.06-.94-.94-2.06-.94 2.06-2.06.94z\"/><path d=\"M17.41 7.96l-1.37-1.37c-.4-.4-.92-.59-1.43-.59-.52 0-1.04.2-1.43.59L10.3 9.45l-7.72 7.72c-.78.78-.78 2.05 0 2.83L4 21.41c.39.39.9.59 1.41.59.51 0 1.02-.2 1.41-.59l7.78-7.78 2.81-2.81c.8-.78.8-2.07 0-2.86zM5.41 20L4 18.59l7.72-7.72 1.47 1.35L5.41 20z\"/>\n",
              "  </svg>\n",
              "      </button>\n",
              "      \n",
              "  <style>\n",
              "    .colab-df-container {\n",
              "      display:flex;\n",
              "      flex-wrap:wrap;\n",
              "      gap: 12px;\n",
              "    }\n",
              "\n",
              "    .colab-df-convert {\n",
              "      background-color: #E8F0FE;\n",
              "      border: none;\n",
              "      border-radius: 50%;\n",
              "      cursor: pointer;\n",
              "      display: none;\n",
              "      fill: #1967D2;\n",
              "      height: 32px;\n",
              "      padding: 0 0 0 0;\n",
              "      width: 32px;\n",
              "    }\n",
              "\n",
              "    .colab-df-convert:hover {\n",
              "      background-color: #E2EBFA;\n",
              "      box-shadow: 0px 1px 2px rgba(60, 64, 67, 0.3), 0px 1px 3px 1px rgba(60, 64, 67, 0.15);\n",
              "      fill: #174EA6;\n",
              "    }\n",
              "\n",
              "    [theme=dark] .colab-df-convert {\n",
              "      background-color: #3B4455;\n",
              "      fill: #D2E3FC;\n",
              "    }\n",
              "\n",
              "    [theme=dark] .colab-df-convert:hover {\n",
              "      background-color: #434B5C;\n",
              "      box-shadow: 0px 1px 3px 1px rgba(0, 0, 0, 0.15);\n",
              "      filter: drop-shadow(0px 1px 2px rgba(0, 0, 0, 0.3));\n",
              "      fill: #FFFFFF;\n",
              "    }\n",
              "  </style>\n",
              "\n",
              "      <script>\n",
              "        const buttonEl =\n",
              "          document.querySelector('#df-3b171f4f-a789-4031-a54e-5c27a9ebc239 button.colab-df-convert');\n",
              "        buttonEl.style.display =\n",
              "          google.colab.kernel.accessAllowed ? 'block' : 'none';\n",
              "\n",
              "        async function convertToInteractive(key) {\n",
              "          const element = document.querySelector('#df-3b171f4f-a789-4031-a54e-5c27a9ebc239');\n",
              "          const dataTable =\n",
              "            await google.colab.kernel.invokeFunction('convertToInteractive',\n",
              "                                                     [key], {});\n",
              "          if (!dataTable) return;\n",
              "\n",
              "          const docLinkHtml = 'Like what you see? Visit the ' +\n",
              "            '<a target=\"_blank\" href=https://colab.research.google.com/notebooks/data_table.ipynb>data table notebook</a>'\n",
              "            + ' to learn more about interactive tables.';\n",
              "          element.innerHTML = '';\n",
              "          dataTable['output_type'] = 'display_data';\n",
              "          await google.colab.output.renderOutput(dataTable, element);\n",
              "          const docLink = document.createElement('div');\n",
              "          docLink.innerHTML = docLinkHtml;\n",
              "          element.appendChild(docLink);\n",
              "        }\n",
              "      </script>\n",
              "    </div>\n",
              "  </div>\n",
              "  "
            ]
          },
          "metadata": {},
          "execution_count": 450
        }
      ]
    },
    {
      "cell_type": "code",
      "source": [
        "#Setting the timestamp as index of the dataframe. \n",
        "#THis helps to iterate through the data based on time\n",
        "df.set_index('DateTime', inplace=True)\n",
        "#We see that DateTime is now the index. It is no longer an ordinary column\n",
        "#add columns\n",
        "df[\"SmS1\"] = '' \n",
        "df[\"SmS2\"] = '' \n",
        "df[\"SmS3\"] = '' \n",
        "\n",
        "df.head(2)"
      ],
      "metadata": {
        "colab": {
          "base_uri": "https://localhost:8080/",
          "height": 143
        },
        "id": "u0hGFjOdQIFN",
        "outputId": "91d39414-33ff-4ef7-a22e-b3cf1d54897b"
      },
      "execution_count": null,
      "outputs": [
        {
          "output_type": "execute_result",
          "data": {
            "text/plain": [
              "                     Arg12b1f  ENI0122B1V1  ENI0122B2V1 SmS1 SmS2 SmS3\n",
              "DateTime                                                              \n",
              "2022-03-02 08:22:00       NaN         35.7         42.8               \n",
              "2022-03-02 08:22:00      36.2          NaN          NaN               "
            ],
            "text/html": [
              "\n",
              "  <div id=\"df-f932efb0-b379-422e-8722-9a109c397819\">\n",
              "    <div class=\"colab-df-container\">\n",
              "      <div>\n",
              "<style scoped>\n",
              "    .dataframe tbody tr th:only-of-type {\n",
              "        vertical-align: middle;\n",
              "    }\n",
              "\n",
              "    .dataframe tbody tr th {\n",
              "        vertical-align: top;\n",
              "    }\n",
              "\n",
              "    .dataframe thead th {\n",
              "        text-align: right;\n",
              "    }\n",
              "</style>\n",
              "<table border=\"1\" class=\"dataframe\">\n",
              "  <thead>\n",
              "    <tr style=\"text-align: right;\">\n",
              "      <th></th>\n",
              "      <th>Arg12b1f</th>\n",
              "      <th>ENI0122B1V1</th>\n",
              "      <th>ENI0122B2V1</th>\n",
              "      <th>SmS1</th>\n",
              "      <th>SmS2</th>\n",
              "      <th>SmS3</th>\n",
              "    </tr>\n",
              "    <tr>\n",
              "      <th>DateTime</th>\n",
              "      <th></th>\n",
              "      <th></th>\n",
              "      <th></th>\n",
              "      <th></th>\n",
              "      <th></th>\n",
              "      <th></th>\n",
              "    </tr>\n",
              "  </thead>\n",
              "  <tbody>\n",
              "    <tr>\n",
              "      <th>2022-03-02 08:22:00</th>\n",
              "      <td>NaN</td>\n",
              "      <td>35.7</td>\n",
              "      <td>42.8</td>\n",
              "      <td></td>\n",
              "      <td></td>\n",
              "      <td></td>\n",
              "    </tr>\n",
              "    <tr>\n",
              "      <th>2022-03-02 08:22:00</th>\n",
              "      <td>36.2</td>\n",
              "      <td>NaN</td>\n",
              "      <td>NaN</td>\n",
              "      <td></td>\n",
              "      <td></td>\n",
              "      <td></td>\n",
              "    </tr>\n",
              "  </tbody>\n",
              "</table>\n",
              "</div>\n",
              "      <button class=\"colab-df-convert\" onclick=\"convertToInteractive('df-f932efb0-b379-422e-8722-9a109c397819')\"\n",
              "              title=\"Convert this dataframe to an interactive table.\"\n",
              "              style=\"display:none;\">\n",
              "        \n",
              "  <svg xmlns=\"http://www.w3.org/2000/svg\" height=\"24px\"viewBox=\"0 0 24 24\"\n",
              "       width=\"24px\">\n",
              "    <path d=\"M0 0h24v24H0V0z\" fill=\"none\"/>\n",
              "    <path d=\"M18.56 5.44l.94 2.06.94-2.06 2.06-.94-2.06-.94-.94-2.06-.94 2.06-2.06.94zm-11 1L8.5 8.5l.94-2.06 2.06-.94-2.06-.94L8.5 2.5l-.94 2.06-2.06.94zm10 10l.94 2.06.94-2.06 2.06-.94-2.06-.94-.94-2.06-.94 2.06-2.06.94z\"/><path d=\"M17.41 7.96l-1.37-1.37c-.4-.4-.92-.59-1.43-.59-.52 0-1.04.2-1.43.59L10.3 9.45l-7.72 7.72c-.78.78-.78 2.05 0 2.83L4 21.41c.39.39.9.59 1.41.59.51 0 1.02-.2 1.41-.59l7.78-7.78 2.81-2.81c.8-.78.8-2.07 0-2.86zM5.41 20L4 18.59l7.72-7.72 1.47 1.35L5.41 20z\"/>\n",
              "  </svg>\n",
              "      </button>\n",
              "      \n",
              "  <style>\n",
              "    .colab-df-container {\n",
              "      display:flex;\n",
              "      flex-wrap:wrap;\n",
              "      gap: 12px;\n",
              "    }\n",
              "\n",
              "    .colab-df-convert {\n",
              "      background-color: #E8F0FE;\n",
              "      border: none;\n",
              "      border-radius: 50%;\n",
              "      cursor: pointer;\n",
              "      display: none;\n",
              "      fill: #1967D2;\n",
              "      height: 32px;\n",
              "      padding: 0 0 0 0;\n",
              "      width: 32px;\n",
              "    }\n",
              "\n",
              "    .colab-df-convert:hover {\n",
              "      background-color: #E2EBFA;\n",
              "      box-shadow: 0px 1px 2px rgba(60, 64, 67, 0.3), 0px 1px 3px 1px rgba(60, 64, 67, 0.15);\n",
              "      fill: #174EA6;\n",
              "    }\n",
              "\n",
              "    [theme=dark] .colab-df-convert {\n",
              "      background-color: #3B4455;\n",
              "      fill: #D2E3FC;\n",
              "    }\n",
              "\n",
              "    [theme=dark] .colab-df-convert:hover {\n",
              "      background-color: #434B5C;\n",
              "      box-shadow: 0px 1px 3px 1px rgba(0, 0, 0, 0.15);\n",
              "      filter: drop-shadow(0px 1px 2px rgba(0, 0, 0, 0.3));\n",
              "      fill: #FFFFFF;\n",
              "    }\n",
              "  </style>\n",
              "\n",
              "      <script>\n",
              "        const buttonEl =\n",
              "          document.querySelector('#df-f932efb0-b379-422e-8722-9a109c397819 button.colab-df-convert');\n",
              "        buttonEl.style.display =\n",
              "          google.colab.kernel.accessAllowed ? 'block' : 'none';\n",
              "\n",
              "        async function convertToInteractive(key) {\n",
              "          const element = document.querySelector('#df-f932efb0-b379-422e-8722-9a109c397819');\n",
              "          const dataTable =\n",
              "            await google.colab.kernel.invokeFunction('convertToInteractive',\n",
              "                                                     [key], {});\n",
              "          if (!dataTable) return;\n",
              "\n",
              "          const docLinkHtml = 'Like what you see? Visit the ' +\n",
              "            '<a target=\"_blank\" href=https://colab.research.google.com/notebooks/data_table.ipynb>data table notebook</a>'\n",
              "            + ' to learn more about interactive tables.';\n",
              "          element.innerHTML = '';\n",
              "          dataTable['output_type'] = 'display_data';\n",
              "          await google.colab.output.renderOutput(dataTable, element);\n",
              "          const docLink = document.createElement('div');\n",
              "          docLink.innerHTML = docLinkHtml;\n",
              "          element.appendChild(docLink);\n",
              "        }\n",
              "      </script>\n",
              "    </div>\n",
              "  </div>\n",
              "  "
            ]
          },
          "metadata": {},
          "execution_count": 451
        }
      ]
    },
    {
      "cell_type": "code",
      "source": [
        "#opération sur le temps\n",
        "#Testing ig we can do mathematical operations to the timestamp. It works.\n",
        "StartTime_df = df.index[0]\n",
        "EndTime_df = df.index[-1]\n",
        "StepTime = StartTime_df + timedelta(minutes=30)\n",
        "print(\"debut df\",StartTime_df,\"end df\",EndTime_df,\"pas\",StepTime)\n",
        "# initialisation des series speciales\n",
        "Median = pd.DataFrame([0], index = [StartTime_df], columns=['Median'])\n",
        "Comment = pd.DataFrame( ['Begin'] , index = [StartTime_df], columns=['Comment'])\n",
        "Outliers_SmS1 = pd.DataFrame( [0] , index = [StartTime_df], columns=['Out_SmS1'])\n",
        "Reliable_SmS1 = pd.DataFrame( [0] , index = [StartTime_df], columns=['Rel_SmS1'])"
      ],
      "metadata": {
        "colab": {
          "base_uri": "https://localhost:8080/"
        },
        "id": "FtIqexyCVvmX",
        "outputId": "e969cd4d-c923-4315-c06d-1df56a213afe"
      },
      "execution_count": null,
      "outputs": [
        {
          "output_type": "stream",
          "name": "stdout",
          "text": [
            "debut df 2022-03-02 08:22:00 end df 2022-03-02 20:18:00 pas 2022-03-02 08:52:00\n"
          ]
        }
      ]
    },
    {
      "cell_type": "code",
      "source": [
        "##fait des tranches de temsp de 30 minutes\n",
        "StartTime_df = df.index[0]\n",
        "EndTime_df = df.index[-1]\n",
        "Start_step = StartTime_df \n",
        "StepTime = StartTime_df + timedelta(minutes=29)\n",
        "Time_slice_list=[Start_step]\n",
        "print(\"Start: \", Start_step, \" , End: \", StepTime)\n",
        "for time, row in df.iterrows():\n",
        "  if(time <= StepTime):\n",
        "    This_time = time\n",
        "    #print(time)  \n",
        "  if(time > StepTime):\n",
        "    Start_step = time\n",
        "    StepTime = time + timedelta(minutes=30)\n",
        "    Time_slice_list.append(Start_step)\n",
        "    #Time_slice_list.append(StepTime)\n",
        "    #print(\"Start: \", Start_step, \" , End: \", StepTime)\n",
        "\n",
        "#Time_slice_list"
      ],
      "metadata": {
        "colab": {
          "base_uri": "https://localhost:8080/"
        },
        "id": "dIlwettvbRP6",
        "outputId": "55098e48-70ef-477f-e78e-5f84a6050902"
      },
      "execution_count": null,
      "outputs": [
        {
          "output_type": "stream",
          "name": "stdout",
          "text": [
            "Start:  2022-03-02 08:22:00  , End:  2022-03-02 08:51:00\n"
          ]
        }
      ]
    },
    {
      "cell_type": "code",
      "source": [
        "#df.loc[StartTime:EndTime]\n",
        "#df.loc['2022-03-02 08:30':'2022-03-02 09:00']"
      ],
      "metadata": {
        "id": "rH5mRPS0UcnH"
      },
      "execution_count": null,
      "outputs": []
    },
    {
      "cell_type": "markdown",
      "source": [
        "# test de remplissage des lignes sms1"
      ],
      "metadata": {
        "id": "8pYL1Csuru4A"
      }
    },
    {
      "cell_type": "code",
      "source": [
        "#on récupère une tranche de 30 min\n",
        "Start_step = Time_slice_list[0] \n",
        "End_step = Start_step + timedelta(minutes=30)\n",
        "print(\"slice-start\",Start_step,\"slice-end\",End_step)\n",
        "df_slice = df.loc[Start_step:End_step].copy()\n",
        "df_slice.head()"
      ],
      "metadata": {
        "colab": {
          "base_uri": "https://localhost:8080/",
          "height": 255
        },
        "id": "rXskEsgGsKET",
        "outputId": "cbc472e4-f92d-428b-efc4-9bcafbea6aeb"
      },
      "execution_count": null,
      "outputs": [
        {
          "output_type": "stream",
          "name": "stdout",
          "text": [
            "slice-start 2022-03-02 08:22:00 slice-end 2022-03-02 08:52:00\n"
          ]
        },
        {
          "output_type": "execute_result",
          "data": {
            "text/plain": [
              "                     Arg12b1f  ENI0122B1V1  ENI0122B2V1 SmS1 SmS2 SmS3\n",
              "DateTime                                                              \n",
              "2022-03-02 08:22:00       NaN         35.7         42.8               \n",
              "2022-03-02 08:22:00      36.2          NaN          NaN               \n",
              "2022-03-02 08:27:00      31.0         29.9          0.0               \n",
              "2022-03-02 08:32:00      20.0          NaN          NaN               \n",
              "2022-03-02 08:32:00       NaN         18.2          NaN               "
            ],
            "text/html": [
              "\n",
              "  <div id=\"df-9859e7c7-22ee-4556-988b-5217974858f7\">\n",
              "    <div class=\"colab-df-container\">\n",
              "      <div>\n",
              "<style scoped>\n",
              "    .dataframe tbody tr th:only-of-type {\n",
              "        vertical-align: middle;\n",
              "    }\n",
              "\n",
              "    .dataframe tbody tr th {\n",
              "        vertical-align: top;\n",
              "    }\n",
              "\n",
              "    .dataframe thead th {\n",
              "        text-align: right;\n",
              "    }\n",
              "</style>\n",
              "<table border=\"1\" class=\"dataframe\">\n",
              "  <thead>\n",
              "    <tr style=\"text-align: right;\">\n",
              "      <th></th>\n",
              "      <th>Arg12b1f</th>\n",
              "      <th>ENI0122B1V1</th>\n",
              "      <th>ENI0122B2V1</th>\n",
              "      <th>SmS1</th>\n",
              "      <th>SmS2</th>\n",
              "      <th>SmS3</th>\n",
              "    </tr>\n",
              "    <tr>\n",
              "      <th>DateTime</th>\n",
              "      <th></th>\n",
              "      <th></th>\n",
              "      <th></th>\n",
              "      <th></th>\n",
              "      <th></th>\n",
              "      <th></th>\n",
              "    </tr>\n",
              "  </thead>\n",
              "  <tbody>\n",
              "    <tr>\n",
              "      <th>2022-03-02 08:22:00</th>\n",
              "      <td>NaN</td>\n",
              "      <td>35.7</td>\n",
              "      <td>42.8</td>\n",
              "      <td></td>\n",
              "      <td></td>\n",
              "      <td></td>\n",
              "    </tr>\n",
              "    <tr>\n",
              "      <th>2022-03-02 08:22:00</th>\n",
              "      <td>36.2</td>\n",
              "      <td>NaN</td>\n",
              "      <td>NaN</td>\n",
              "      <td></td>\n",
              "      <td></td>\n",
              "      <td></td>\n",
              "    </tr>\n",
              "    <tr>\n",
              "      <th>2022-03-02 08:27:00</th>\n",
              "      <td>31.0</td>\n",
              "      <td>29.9</td>\n",
              "      <td>0.0</td>\n",
              "      <td></td>\n",
              "      <td></td>\n",
              "      <td></td>\n",
              "    </tr>\n",
              "    <tr>\n",
              "      <th>2022-03-02 08:32:00</th>\n",
              "      <td>20.0</td>\n",
              "      <td>NaN</td>\n",
              "      <td>NaN</td>\n",
              "      <td></td>\n",
              "      <td></td>\n",
              "      <td></td>\n",
              "    </tr>\n",
              "    <tr>\n",
              "      <th>2022-03-02 08:32:00</th>\n",
              "      <td>NaN</td>\n",
              "      <td>18.2</td>\n",
              "      <td>NaN</td>\n",
              "      <td></td>\n",
              "      <td></td>\n",
              "      <td></td>\n",
              "    </tr>\n",
              "  </tbody>\n",
              "</table>\n",
              "</div>\n",
              "      <button class=\"colab-df-convert\" onclick=\"convertToInteractive('df-9859e7c7-22ee-4556-988b-5217974858f7')\"\n",
              "              title=\"Convert this dataframe to an interactive table.\"\n",
              "              style=\"display:none;\">\n",
              "        \n",
              "  <svg xmlns=\"http://www.w3.org/2000/svg\" height=\"24px\"viewBox=\"0 0 24 24\"\n",
              "       width=\"24px\">\n",
              "    <path d=\"M0 0h24v24H0V0z\" fill=\"none\"/>\n",
              "    <path d=\"M18.56 5.44l.94 2.06.94-2.06 2.06-.94-2.06-.94-.94-2.06-.94 2.06-2.06.94zm-11 1L8.5 8.5l.94-2.06 2.06-.94-2.06-.94L8.5 2.5l-.94 2.06-2.06.94zm10 10l.94 2.06.94-2.06 2.06-.94-2.06-.94-.94-2.06-.94 2.06-2.06.94z\"/><path d=\"M17.41 7.96l-1.37-1.37c-.4-.4-.92-.59-1.43-.59-.52 0-1.04.2-1.43.59L10.3 9.45l-7.72 7.72c-.78.78-.78 2.05 0 2.83L4 21.41c.39.39.9.59 1.41.59.51 0 1.02-.2 1.41-.59l7.78-7.78 2.81-2.81c.8-.78.8-2.07 0-2.86zM5.41 20L4 18.59l7.72-7.72 1.47 1.35L5.41 20z\"/>\n",
              "  </svg>\n",
              "      </button>\n",
              "      \n",
              "  <style>\n",
              "    .colab-df-container {\n",
              "      display:flex;\n",
              "      flex-wrap:wrap;\n",
              "      gap: 12px;\n",
              "    }\n",
              "\n",
              "    .colab-df-convert {\n",
              "      background-color: #E8F0FE;\n",
              "      border: none;\n",
              "      border-radius: 50%;\n",
              "      cursor: pointer;\n",
              "      display: none;\n",
              "      fill: #1967D2;\n",
              "      height: 32px;\n",
              "      padding: 0 0 0 0;\n",
              "      width: 32px;\n",
              "    }\n",
              "\n",
              "    .colab-df-convert:hover {\n",
              "      background-color: #E2EBFA;\n",
              "      box-shadow: 0px 1px 2px rgba(60, 64, 67, 0.3), 0px 1px 3px 1px rgba(60, 64, 67, 0.15);\n",
              "      fill: #174EA6;\n",
              "    }\n",
              "\n",
              "    [theme=dark] .colab-df-convert {\n",
              "      background-color: #3B4455;\n",
              "      fill: #D2E3FC;\n",
              "    }\n",
              "\n",
              "    [theme=dark] .colab-df-convert:hover {\n",
              "      background-color: #434B5C;\n",
              "      box-shadow: 0px 1px 3px 1px rgba(0, 0, 0, 0.15);\n",
              "      filter: drop-shadow(0px 1px 2px rgba(0, 0, 0, 0.3));\n",
              "      fill: #FFFFFF;\n",
              "    }\n",
              "  </style>\n",
              "\n",
              "      <script>\n",
              "        const buttonEl =\n",
              "          document.querySelector('#df-9859e7c7-22ee-4556-988b-5217974858f7 button.colab-df-convert');\n",
              "        buttonEl.style.display =\n",
              "          google.colab.kernel.accessAllowed ? 'block' : 'none';\n",
              "\n",
              "        async function convertToInteractive(key) {\n",
              "          const element = document.querySelector('#df-9859e7c7-22ee-4556-988b-5217974858f7');\n",
              "          const dataTable =\n",
              "            await google.colab.kernel.invokeFunction('convertToInteractive',\n",
              "                                                     [key], {});\n",
              "          if (!dataTable) return;\n",
              "\n",
              "          const docLinkHtml = 'Like what you see? Visit the ' +\n",
              "            '<a target=\"_blank\" href=https://colab.research.google.com/notebooks/data_table.ipynb>data table notebook</a>'\n",
              "            + ' to learn more about interactive tables.';\n",
              "          element.innerHTML = '';\n",
              "          dataTable['output_type'] = 'display_data';\n",
              "          await google.colab.output.renderOutput(dataTable, element);\n",
              "          const docLink = document.createElement('div');\n",
              "          docLink.innerHTML = docLinkHtml;\n",
              "          element.appendChild(docLink);\n",
              "        }\n",
              "      </script>\n",
              "    </div>\n",
              "  </div>\n",
              "  "
            ]
          },
          "metadata": {},
          "execution_count": 464
        }
      ]
    },
    {
      "cell_type": "code",
      "source": [
        "#une fois la trance obtenue, on va extraire la médiane et les valeurs brutes\n",
        "row_value_list = [] #stocker les valeur pour calculer la médiane du set\n",
        "row_sms1 = []\n",
        "row_idx_1= []       #stocke les valeurs burtes pour futures détections\n",
        "row_sms2 = []\n",
        "row_idx_2= [] \n",
        "row_sms3 = []\n",
        "row_idx_3= [] \n",
        "for time, row in df_slice.iterrows():\n",
        "\n",
        "  if(pd.isna(row[\"Arg12b1f\"]) == False ):      #teste si il y a  NaN \n",
        "    #row_value_list.append(row[\"Arg12b1f\"])   #stocke dans la liste\n",
        "    row_sms1.append(row[\"Arg12b1f\"]) \n",
        "    row_idx_1.append(time)\n",
        "    df_slice.loc[time, \"SmS1\"] = row[\"Arg12b1f\"]      #met la valeur dans la colonne Sms1\n",
        "  if(pd.isna(row[\"ENI0122B1V1\"]) == False ):\n",
        "    #row_value_list.append(row[\"ENI0122B1V1\"]) \n",
        "    row_sms2.append(row[\"ENI0122B1V1\"]) \n",
        "    row_idx_2.append(time)\n",
        "    df_slice.loc[time, \"SmS2\"] = row[\"ENI0122B1V1\"]             \n",
        "  if(pd.isna(row[\"ENI0122B2V1\"]) == False ):\n",
        "    #row_value_list.append(row[\"ENI0122B2V1\"])\n",
        "    row_sms3.append(row[\"ENI0122B2V1\"])\n",
        "    row_idx_3.append(time)\n",
        "    df_slice.loc[time, \"SmS3\"] = row[\"ENI0122B2V1\"] \n",
        "\n",
        "#Traitements à partir du premier passage\n",
        "#print(row_sms1,row_sms2,row_sms3)\n",
        "row_value_list = row_sms1 + row_sms2 + row_sms3\n",
        "#df_slice\n",
        "#print(row_value_list)\n",
        "# on récupère que les valeurs dont on a besoin\n",
        "df_slice_sorted = df_slice[['SmS1', 'SmS2', 'SmS3']].copy()\n",
        "#on enlève les doublons\n",
        "# on supprime les doublon à cause de la clé\n",
        "df_slice_sorted.drop_duplicates(keep = 'first', inplace=True)\n",
        "print(df_slice_sorted)\n",
        "\n"
      ],
      "metadata": {
        "colab": {
          "base_uri": "https://localhost:8080/"
        },
        "id": "HDUXY2zRryYx",
        "outputId": "e5a62126-7e7b-4026-e9f3-92a124be3f36"
      },
      "execution_count": null,
      "outputs": [
        {
          "output_type": "stream",
          "name": "stdout",
          "text": [
            "                     SmS1  SmS2  SmS3\n",
            "DateTime                             \n",
            "2022-03-02 08:22:00  36.2  35.7  42.8\n",
            "2022-03-02 08:27:00  31.0  29.9   0.0\n",
            "2022-03-02 08:32:00  20.0  18.2  24.0\n",
            "2022-03-02 08:37:00  15.9  18.2  16.2\n",
            "2022-03-02 08:42:00  15.9  13.9  11.5\n",
            "2022-03-02 08:47:00  11.0  12.0  12.0\n",
            "2022-03-02 08:52:00         6.1   7.8\n"
          ]
        }
      ]
    },
    {
      "cell_type": "code",
      "source": [
        "#concatener series\n",
        "s1 = pd.Series(['a', 'b'])\n",
        "s2 = pd.Series(['c', 'd'])\n",
        "pd.concat([s1, s2])\n",
        "#convert dataframe to a serie\n",
        "data = {'Products': ['Computer', 'Printer', 'Tablet', 'Chair', 'Desk']}\n",
        "df = pd.DataFrame(data, columns = ['Products'])\n",
        "\n",
        "my_series = df.squeeze()\n",
        "\n",
        "print(my_series)\n",
        "print(type(my_series)"
      ],
      "metadata": {
        "id": "fHBPI4SSdatx"
      },
      "execution_count": null,
      "outputs": []
    },
    {
      "cell_type": "code",
      "source": [
        "#création series             \n",
        "SmS1 = pd.Series(row_sms1, index = row_idx_1)\n",
        "SmS2 = pd.Series(row_sms2, index = row_idx_2)\n",
        "SmS3 = pd.Series(row_sms3, index = row_idx_3)\n",
        "print(len(SmS1),len(SmS2),len(SmS3))\n",
        "# affichage series\n",
        "plt.figure(figsize=(12,8))\n",
        "SmS1.plot(label='SmS1')\n",
        "SmS2.plot(label='SmS2')\n",
        "SmS3.plot(label='SmS3')\n",
        "plt.legend()\n",
        "plt.show()"
      ],
      "metadata": {
        "colab": {
          "base_uri": "https://localhost:8080/",
          "height": 498
        },
        "id": "8S1uulUIG8gV",
        "outputId": "f966c7d5-d654-442f-bcc2-fb1d78b9642d"
      },
      "execution_count": null,
      "outputs": [
        {
          "output_type": "stream",
          "name": "stdout",
          "text": [
            "6 7 7\n"
          ]
        },
        {
          "output_type": "display_data",
          "data": {
            "text/plain": [
              "<Figure size 864x576 with 1 Axes>"
            ],
            "image/png": "[encoded data removed]"
          },
          "metadata": {
            "needs_background": "light"
          }
        }
      ]
    },
    {
      "cell_type": "code",
      "source": [
        "#détection no Data\n",
        "\n",
        "HardwareFault=[]\n",
        "print(SmS1.size,SmS2.size,SmS3.size)\n",
        "if (SmS1.size == 0): \n",
        "  #print(\"Hardware fault SmS1\")\n",
        "  HardwareFault.append(\"Hardware Fault SmS1\")\n",
        "if (SmS2.size == 0): \n",
        "  #print(\"Hardware fault SmS2\")\n",
        "  HardwareFault.append(\"Hardware Fault SmS2\")\n",
        "if (SmS3.size == 0): \n",
        "  #print(\"Hardware fault SmS3\")\n",
        "  HardwareFault.append(\"Hardware Fault SmS3\")\n",
        "  \n",
        "print(HardwareFault)\n",
        "\n",
        "#Ajout des Médianes et des commentaires\n",
        "\n",
        "Comment.loc[End_step,\"Comment\"] = str(HardwareFault)\n",
        "\n",
        "print(Comment)"
      ],
      "metadata": {
        "colab": {
          "base_uri": "https://localhost:8080/"
        },
        "id": "5e5sX1SdYFfy",
        "outputId": "351f073a-80da-4404-8165-3a5d0de2379b"
      },
      "execution_count": null,
      "outputs": [
        {
          "output_type": "stream",
          "name": "stdout",
          "text": [
            "6 7 7\n",
            "[]\n",
            "                    Comment\n",
            "2022-03-02 08:22:00   Begin\n",
            "2022-03-02 08:52:00      []\n"
          ]
        }
      ]
    },
    {
      "cell_type": "code",
      "source": [
        "# on va extraire la médiane des valeurs récoltées dans la tranche\n",
        "#Puis on calcule les seuil Max et Min pour la détection des outliers\n",
        "liste = [row_value_list]\n",
        "threshold = 15 # pour 15% d'erreur toléré\n",
        "Median_slice = np.median(np.array(liste))\n",
        "MedMin = Median_slice - (Median_slice*threshold)//100\n",
        "MedMax = Median_slice + (Median_slice*threshold)//100\n",
        "#on stocke la médiane\n",
        "Median.loc[End_step, \"Median\"] = Median_slice\n",
        "print(Median)\n",
        "#df_slice_sorted.loc[End_step, \"Median\"] = Median_slice\n"
      ],
      "metadata": {
        "colab": {
          "base_uri": "https://localhost:8080/"
        },
        "id": "BxRU1EJpWuK-",
        "outputId": "847700fd-1cab-487e-a7f7-cdffbabc4700"
      },
      "execution_count": null,
      "outputs": [
        {
          "output_type": "stream",
          "name": "stdout",
          "text": [
            "                     Median\n",
            "2022-03-02 08:22:00    0.00\n",
            "2022-03-02 08:52:00   16.05\n"
          ]
        }
      ]
    },
    {
      "cell_type": "code",
      "source": [
        "# boucle de détection ( extraction des valeurs outliers)\n",
        "print(\"Median\",Median_slice,\"MedMin\",MedMin,\"MedMax\",MedMax)\n",
        "print(SmS1)\n",
        "for time, row in SmS1.iteritems():\n",
        "   if((row > MedMax) or (row < MedMin)):\n",
        "     Outliers_SmS1.loc[time, 'Out_SmS1'] = row \n",
        "   else:\n",
        "     Reliable_SmS1.loc[time, 'Rel_SmS1'] = row\n",
        "print(Reliable_SmS1)\n",
        "print(Outliers_SmS1)\n",
        "#Out_max_SmS1 = SmS1[pd.to_numeric(SmS1)>MedMax]\n",
        "#print(Out_max_SmS1)\n",
        "#Out_min_SmS1 = SmS1[pd.to_numeric(SmS1)< MedMin]\n",
        "#print(Out_min_SmS1)\n",
        "#Outliers_SmS1 = Out_max_SmS1 + Out_min_SmS1\n",
        "#print(Outliers_SmS1)"
      ],
      "metadata": {
        "colab": {
          "base_uri": "https://localhost:8080/"
        },
        "id": "HgX4DrRqWPOR",
        "outputId": "f83678ec-9abe-4ed0-e6a7-91319f2e5287"
      },
      "execution_count": null,
      "outputs": [
        {
          "output_type": "stream",
          "name": "stdout",
          "text": [
            "Median 16.05 MedMin 14.05 MedMax 18.05\n",
            "2022-03-02 08:22:00    36.2\n",
            "2022-03-02 08:27:00    31.0\n",
            "2022-03-02 08:32:00    20.0\n",
            "2022-03-02 08:37:00    15.9\n",
            "2022-03-02 08:42:00    15.9\n",
            "2022-03-02 08:47:00    11.0\n",
            "dtype: float64\n",
            "                     Rel_SmS1\n",
            "2022-03-02 08:22:00       0.0\n",
            "2022-03-02 08:37:00      15.9\n",
            "2022-03-02 08:42:00      15.9\n",
            "                     Out_SmS1\n",
            "2022-03-02 08:22:00      36.2\n",
            "2022-03-02 08:27:00      31.0\n",
            "2022-03-02 08:32:00      20.0\n",
            "2022-03-02 08:47:00      11.0\n"
          ]
        }
      ]
    },
    {
      "cell_type": "code",
      "source": [
        "# affichage series\n",
        "plt.figure(figsize=(12,8))\n",
        "SmS1.plot(label='SmS1')\n",
        "SmS2.plot(label='SmS2')\n",
        "SmS3.plot(label='SmS3')\n",
        "#test de convertion df en series\n",
        "R1 = Reliable_SmS1.squeeze()\n",
        "R1.plot(label='Reliable', lw=4, ls=':', alpha = 0.5)\n",
        "Out1 = Outliers_SmS1.squeeze()\n",
        "Out1.plot(label='Out')\n",
        "plt.legend()\n",
        "plt.show()"
      ],
      "metadata": {
        "colab": {
          "base_uri": "https://localhost:8080/",
          "height": 481
        },
        "id": "1R20PKR7fpNj",
        "outputId": "0424828b-249d-4e33-aed6-be0e832e47d7"
      },
      "execution_count": null,
      "outputs": [
        {
          "output_type": "display_data",
          "data": {
            "text/plain": [
              "<Figure size 864x576 with 1 Axes>"
            ],
            "image/png": "[encoded data removed]"
          },
          "metadata": {
            "needs_background": "light"
          }
        }
      ]
    },
    {
      "cell_type": "markdown",
      "source": [
        "# opération sur le data frame"
      ],
      "metadata": {
        "id": "qjWwu5u-37ic"
      }
    },
    {
      "cell_type": "code",
      "source": [
        "#boucle de détection\n",
        "print(\"Median\",Median_slice,\"MedMin\",MedMin,\"MedMax\",MedMax)\n",
        "dfss=df_slice_sorted.copy()\n",
        "#for time, row in dfss.iterrows():\n",
        "   #if(pd.to_numeric(row[\"SmS1\"]) >= 16.0 ):\n",
        "     #print(\"yes\")\n",
        "   #else:\n",
        "     #print(\"no\")\n",
        "#avec la librairie pandas\n",
        "#df_max=pd.to_numeric(dfss['SmS1'])> MedMax \n",
        "filtered_max = dfss[pd.to_numeric(dfss['SmS1'])> MedMax ]\n",
        "print(filtered_max)\n",
        "df_min=pd.to_numeric(dfss['SmS1'])< MedMin \n",
        "filtered_min = dfss[df_min]\n",
        "print(filtered_min)\n",
        "\n",
        "#recupere ces valeurs permet de "
      ],
      "metadata": {
        "colab": {
          "base_uri": "https://localhost:8080/"
        },
        "id": "3JYngDLj3_Lp",
        "outputId": "c023be50-d100-4cd8-8c31-7240d86cfd18"
      },
      "execution_count": null,
      "outputs": [
        {
          "output_type": "stream",
          "name": "stdout",
          "text": [
            "Median 16.05 MedMin 14.05 MedMax 18.05\n",
            "                     SmS1  SmS2  SmS3 Median Out Comments\n",
            "DateTime                                                 \n",
            "2022-03-02 08:22:00  36.2  35.7  42.8                    \n",
            "2022-03-02 08:27:00  31.0  29.9   0.0                    \n",
            "2022-03-02 08:32:00  20.0  18.2  24.0                    \n",
            "                     SmS1  SmS2  SmS3 Median Out Comments\n",
            "DateTime                                                 \n",
            "2022-03-02 08:47:00  11.0  12.0  12.0                    \n"
          ]
        }
      ]
    },
    {
      "cell_type": "markdown",
      "source": [
        "# affichage"
      ],
      "metadata": {
        "id": "801rvZv4CKzo"
      }
    },
    {
      "cell_type": "code",
      "source": [
        ""
      ],
      "metadata": {
        "id": "3idPqXsPWGdU"
      },
      "execution_count": null,
      "outputs": []
    },
    {
      "cell_type": "markdown",
      "source": [
        "# test avec le découpage\n"
      ],
      "metadata": {
        "id": "cWhFgXhgrLs4"
      }
    },
    {
      "cell_type": "code",
      "source": [
        "StartTime_df = df.index[0]\n",
        "EndTime_df = df.index[-1]\n",
        "Start_step = StartTime_df \n",
        "StepTime = StartTime_df + timedelta(minutes=29)\n",
        "Time_slice_list=[Start_step]\n",
        "print(\"Start: \", Start_step, \" , End: \", StepTime)\n",
        "for time, row in df.iterrows():\n",
        "  if(time <= StepTime):\n",
        "    This_time = time\n",
        "    #extraction des valeurs\n",
        "      if(pd.isna(row[\"Arg12b1f\"]) == False ):                #teste si il y a pas de NaN we save that value to a list\n",
        "      row_value_list.append(row[\"Arg12b1f\"])\n",
        "      if(pd.isna(row[\"ENI0122B1V1\"]) == False ):\n",
        "      row_value_list.append(row[\"ENI0122B1V1\"])              #do same for other 2 sensors\n",
        "      if(pd.isna(row[\"ENI0122B2V1\"]) == False ):\n",
        "      row_value_list.append(row[\"ENI0122B2V1\"])\n",
        "    #print(time)  \n",
        "  if(time > StepTime):\n",
        "    Start_step = time\n",
        "    StepTime = time + timedelta(minutes=30)\n",
        "    Time_slice_list.append(Start_step)"
      ],
      "metadata": {
        "id": "T-0KxlAarCWA"
      },
      "execution_count": null,
      "outputs": []
    }
  ]
}